{
 "cells": [
  {
   "cell_type": "code",
   "execution_count": 8,
   "id": "3933d419",
   "metadata": {},
   "outputs": [],
   "source": [
    "import pandas as pd\n",
    "import numpy as np\n",
    "import matplotlib.pyplot as plt\n",
    "import seaborn as sns\n",
    "from ast import literal_eval\n",
    "from sklearn.feature_extraction.text import TfidfVectorizer\n",
    "from sklearn.feature_extraction.text import CountVectorizer\n",
    "from sklearn.metrics.pairwise import cosine_similarity"
   ]
  },
  {
   "cell_type": "code",
   "execution_count": 9,
   "id": "3fecd070",
   "metadata": {},
   "outputs": [],
   "source": [
    "movie_data = pd.read_csv('./tranning-data/movies.csv')\n",
    "rating_data = pd.read_csv('./tranning-data/ratings.csv')\n",
    "link_data = pd.read_csv('./tranning-data/links.csv')"
   ]
  },
  {
   "cell_type": "code",
   "execution_count": 10,
   "id": "c41c62de",
   "metadata": {},
   "outputs": [
    {
     "data": {
      "text/html": [
       "<div>\n",
       "<style scoped>\n",
       "    .dataframe tbody tr th:only-of-type {\n",
       "        vertical-align: middle;\n",
       "    }\n",
       "\n",
       "    .dataframe tbody tr th {\n",
       "        vertical-align: top;\n",
       "    }\n",
       "\n",
       "    .dataframe thead th {\n",
       "        text-align: right;\n",
       "    }\n",
       "</style>\n",
       "<table border=\"1\" class=\"dataframe\">\n",
       "  <thead>\n",
       "    <tr style=\"text-align: right;\">\n",
       "      <th></th>\n",
       "      <th>userId</th>\n",
       "      <th>movieId</th>\n",
       "      <th>rating</th>\n",
       "    </tr>\n",
       "  </thead>\n",
       "  <tbody>\n",
       "    <tr>\n",
       "      <th>0</th>\n",
       "      <td>1</td>\n",
       "      <td>1</td>\n",
       "      <td>4.0</td>\n",
       "    </tr>\n",
       "    <tr>\n",
       "      <th>1</th>\n",
       "      <td>1</td>\n",
       "      <td>3</td>\n",
       "      <td>4.0</td>\n",
       "    </tr>\n",
       "  </tbody>\n",
       "</table>\n",
       "</div>"
      ],
      "text/plain": [
       "   userId  movieId  rating\n",
       "0       1        1     4.0\n",
       "1       1        3     4.0"
      ]
     },
     "execution_count": 10,
     "metadata": {},
     "output_type": "execute_result"
    }
   ],
   "source": [
    "rating_data.drop('timestamp', axis = 1, inplace=True)\n",
    "rating_data.head(2)"
   ]
  },
  {
   "cell_type": "code",
   "execution_count": 11,
   "id": "ff113fb3",
   "metadata": {},
   "outputs": [],
   "source": [
    "user_movie_rating = pd.merge(rating_data, movie_data, on = 'movieId')"
   ]
  },
  {
   "cell_type": "code",
   "execution_count": 12,
   "id": "86bacff7",
   "metadata": {},
   "outputs": [
    {
     "data": {
      "text/html": [
       "<div>\n",
       "<style scoped>\n",
       "    .dataframe tbody tr th:only-of-type {\n",
       "        vertical-align: middle;\n",
       "    }\n",
       "\n",
       "    .dataframe tbody tr th {\n",
       "        vertical-align: top;\n",
       "    }\n",
       "\n",
       "    .dataframe thead th {\n",
       "        text-align: right;\n",
       "    }\n",
       "</style>\n",
       "<table border=\"1\" class=\"dataframe\">\n",
       "  <thead>\n",
       "    <tr style=\"text-align: right;\">\n",
       "      <th></th>\n",
       "      <th>userId</th>\n",
       "      <th>movieId</th>\n",
       "      <th>rating</th>\n",
       "      <th>title</th>\n",
       "      <th>genres</th>\n",
       "    </tr>\n",
       "  </thead>\n",
       "  <tbody>\n",
       "    <tr>\n",
       "      <th>0</th>\n",
       "      <td>1</td>\n",
       "      <td>1</td>\n",
       "      <td>4.0</td>\n",
       "      <td>Toy Story (1995)</td>\n",
       "      <td>Adventure|Animation|Children|Comedy|Fantasy</td>\n",
       "    </tr>\n",
       "    <tr>\n",
       "      <th>1</th>\n",
       "      <td>1</td>\n",
       "      <td>3</td>\n",
       "      <td>4.0</td>\n",
       "      <td>Grumpier Old Men (1995)</td>\n",
       "      <td>Comedy|Romance</td>\n",
       "    </tr>\n",
       "    <tr>\n",
       "      <th>2</th>\n",
       "      <td>1</td>\n",
       "      <td>6</td>\n",
       "      <td>4.0</td>\n",
       "      <td>Heat (1995)</td>\n",
       "      <td>Action|Crime|Thriller</td>\n",
       "    </tr>\n",
       "    <tr>\n",
       "      <th>3</th>\n",
       "      <td>1</td>\n",
       "      <td>47</td>\n",
       "      <td>5.0</td>\n",
       "      <td>Seven (a.k.a. Se7en) (1995)</td>\n",
       "      <td>Mystery|Thriller</td>\n",
       "    </tr>\n",
       "    <tr>\n",
       "      <th>4</th>\n",
       "      <td>1</td>\n",
       "      <td>50</td>\n",
       "      <td>5.0</td>\n",
       "      <td>Usual Suspects, The (1995)</td>\n",
       "      <td>Crime|Mystery|Thriller</td>\n",
       "    </tr>\n",
       "  </tbody>\n",
       "</table>\n",
       "</div>"
      ],
      "text/plain": [
       "   userId  movieId  rating                        title  \\\n",
       "0       1        1     4.0             Toy Story (1995)   \n",
       "1       1        3     4.0      Grumpier Old Men (1995)   \n",
       "2       1        6     4.0                  Heat (1995)   \n",
       "3       1       47     5.0  Seven (a.k.a. Se7en) (1995)   \n",
       "4       1       50     5.0   Usual Suspects, The (1995)   \n",
       "\n",
       "                                        genres  \n",
       "0  Adventure|Animation|Children|Comedy|Fantasy  \n",
       "1                               Comedy|Romance  \n",
       "2                        Action|Crime|Thriller  \n",
       "3                             Mystery|Thriller  \n",
       "4                       Crime|Mystery|Thriller  "
      ]
     },
     "execution_count": 12,
     "metadata": {},
     "output_type": "execute_result"
    }
   ],
   "source": [
    "user_movie_rating.head()"
   ]
  },
  {
   "cell_type": "code",
   "execution_count": 13,
   "id": "a49f344b",
   "metadata": {},
   "outputs": [],
   "source": [
    "movie_user_rating = user_movie_rating.pivot_table('rating', index = 'title', columns='userId')\n",
    "user_movie_rating = user_movie_rating.pivot_table('rating', index = 'userId', columns='title')"
   ]
  },
  {
   "cell_type": "code",
   "execution_count": 14,
   "id": "cb907fdb",
   "metadata": {},
   "outputs": [
    {
     "data": {
      "text/html": [
       "<div>\n",
       "<style scoped>\n",
       "    .dataframe tbody tr th:only-of-type {\n",
       "        vertical-align: middle;\n",
       "    }\n",
       "\n",
       "    .dataframe tbody tr th {\n",
       "        vertical-align: top;\n",
       "    }\n",
       "\n",
       "    .dataframe thead th {\n",
       "        text-align: right;\n",
       "    }\n",
       "</style>\n",
       "<table border=\"1\" class=\"dataframe\">\n",
       "  <thead>\n",
       "    <tr style=\"text-align: right;\">\n",
       "      <th>userId</th>\n",
       "      <th>1</th>\n",
       "      <th>2</th>\n",
       "      <th>3</th>\n",
       "      <th>4</th>\n",
       "      <th>5</th>\n",
       "      <th>6</th>\n",
       "      <th>7</th>\n",
       "      <th>8</th>\n",
       "      <th>9</th>\n",
       "      <th>10</th>\n",
       "      <th>...</th>\n",
       "      <th>602</th>\n",
       "      <th>603</th>\n",
       "      <th>604</th>\n",
       "      <th>605</th>\n",
       "      <th>606</th>\n",
       "      <th>607</th>\n",
       "      <th>608</th>\n",
       "      <th>609</th>\n",
       "      <th>610</th>\n",
       "      <th>611</th>\n",
       "    </tr>\n",
       "    <tr>\n",
       "      <th>title</th>\n",
       "      <th></th>\n",
       "      <th></th>\n",
       "      <th></th>\n",
       "      <th></th>\n",
       "      <th></th>\n",
       "      <th></th>\n",
       "      <th></th>\n",
       "      <th></th>\n",
       "      <th></th>\n",
       "      <th></th>\n",
       "      <th></th>\n",
       "      <th></th>\n",
       "      <th></th>\n",
       "      <th></th>\n",
       "      <th></th>\n",
       "      <th></th>\n",
       "      <th></th>\n",
       "      <th></th>\n",
       "      <th></th>\n",
       "      <th></th>\n",
       "      <th></th>\n",
       "    </tr>\n",
       "  </thead>\n",
       "  <tbody>\n",
       "    <tr>\n",
       "      <th>'71 (2014)</th>\n",
       "      <td>0.0</td>\n",
       "      <td>0.0</td>\n",
       "      <td>0.0</td>\n",
       "      <td>0.0</td>\n",
       "      <td>0.0</td>\n",
       "      <td>0.0</td>\n",
       "      <td>0.0</td>\n",
       "      <td>0.0</td>\n",
       "      <td>0.0</td>\n",
       "      <td>0.0</td>\n",
       "      <td>...</td>\n",
       "      <td>0.0</td>\n",
       "      <td>0.0</td>\n",
       "      <td>0.0</td>\n",
       "      <td>0.0</td>\n",
       "      <td>0.0</td>\n",
       "      <td>0.0</td>\n",
       "      <td>0.0</td>\n",
       "      <td>0.0</td>\n",
       "      <td>4.0</td>\n",
       "      <td>0.0</td>\n",
       "    </tr>\n",
       "    <tr>\n",
       "      <th>'Hellboy': The Seeds of Creation (2004)</th>\n",
       "      <td>0.0</td>\n",
       "      <td>0.0</td>\n",
       "      <td>0.0</td>\n",
       "      <td>0.0</td>\n",
       "      <td>0.0</td>\n",
       "      <td>0.0</td>\n",
       "      <td>0.0</td>\n",
       "      <td>0.0</td>\n",
       "      <td>0.0</td>\n",
       "      <td>0.0</td>\n",
       "      <td>...</td>\n",
       "      <td>0.0</td>\n",
       "      <td>0.0</td>\n",
       "      <td>0.0</td>\n",
       "      <td>0.0</td>\n",
       "      <td>0.0</td>\n",
       "      <td>0.0</td>\n",
       "      <td>0.0</td>\n",
       "      <td>0.0</td>\n",
       "      <td>0.0</td>\n",
       "      <td>0.0</td>\n",
       "    </tr>\n",
       "    <tr>\n",
       "      <th>'Round Midnight (1986)</th>\n",
       "      <td>0.0</td>\n",
       "      <td>0.0</td>\n",
       "      <td>0.0</td>\n",
       "      <td>0.0</td>\n",
       "      <td>0.0</td>\n",
       "      <td>0.0</td>\n",
       "      <td>0.0</td>\n",
       "      <td>0.0</td>\n",
       "      <td>0.0</td>\n",
       "      <td>0.0</td>\n",
       "      <td>...</td>\n",
       "      <td>0.0</td>\n",
       "      <td>0.0</td>\n",
       "      <td>0.0</td>\n",
       "      <td>0.0</td>\n",
       "      <td>0.0</td>\n",
       "      <td>0.0</td>\n",
       "      <td>0.0</td>\n",
       "      <td>0.0</td>\n",
       "      <td>0.0</td>\n",
       "      <td>0.0</td>\n",
       "    </tr>\n",
       "  </tbody>\n",
       "</table>\n",
       "<p>3 rows × 611 columns</p>\n",
       "</div>"
      ],
      "text/plain": [
       "userId                                   1    2    3    4    5    6    7    \\\n",
       "title                                                                        \n",
       "'71 (2014)                               0.0  0.0  0.0  0.0  0.0  0.0  0.0   \n",
       "'Hellboy': The Seeds of Creation (2004)  0.0  0.0  0.0  0.0  0.0  0.0  0.0   \n",
       "'Round Midnight (1986)                   0.0  0.0  0.0  0.0  0.0  0.0  0.0   \n",
       "\n",
       "userId                                   8    9    10   ...  602  603  604  \\\n",
       "title                                                   ...                  \n",
       "'71 (2014)                               0.0  0.0  0.0  ...  0.0  0.0  0.0   \n",
       "'Hellboy': The Seeds of Creation (2004)  0.0  0.0  0.0  ...  0.0  0.0  0.0   \n",
       "'Round Midnight (1986)                   0.0  0.0  0.0  ...  0.0  0.0  0.0   \n",
       "\n",
       "userId                                   605  606  607  608  609  610  611  \n",
       "title                                                                       \n",
       "'71 (2014)                               0.0  0.0  0.0  0.0  0.0  4.0  0.0  \n",
       "'Hellboy': The Seeds of Creation (2004)  0.0  0.0  0.0  0.0  0.0  0.0  0.0  \n",
       "'Round Midnight (1986)                   0.0  0.0  0.0  0.0  0.0  0.0  0.0  \n",
       "\n",
       "[3 rows x 611 columns]"
      ]
     },
     "execution_count": 14,
     "metadata": {},
     "output_type": "execute_result"
    }
   ],
   "source": [
    "movie_user_rating.fillna(0, inplace = True)\n",
    "movie_user_rating.head(3)"
   ]
  },
  {
   "cell_type": "code",
   "execution_count": 15,
   "id": "0c8486dc",
   "metadata": {},
   "outputs": [
    {
     "data": {
      "text/plain": [
       "array([[1.        , 0.        , 0.        , ..., 0.32732684, 0.        ,\n",
       "        0.        ],\n",
       "       [0.        , 1.        , 0.70710678, ..., 0.        , 0.        ,\n",
       "        0.        ],\n",
       "       [0.        , 0.70710678, 1.        , ..., 0.        , 0.        ,\n",
       "        0.        ],\n",
       "       ...,\n",
       "       [0.32732684, 0.        , 0.        , ..., 1.        , 0.        ,\n",
       "        0.        ],\n",
       "       [0.        , 0.        , 0.        , ..., 0.        , 1.        ,\n",
       "        0.        ],\n",
       "       [0.        , 0.        , 0.        , ..., 0.        , 0.        ,\n",
       "        1.        ]], shape=(9719, 9719))"
      ]
     },
     "execution_count": 15,
     "metadata": {},
     "output_type": "execute_result"
    }
   ],
   "source": [
    "item_based_collabor = cosine_similarity(movie_user_rating)\n",
    "item_based_collabor"
   ]
  },
  {
   "cell_type": "code",
   "execution_count": 16,
   "id": "f193f12f",
   "metadata": {},
   "outputs": [
    {
     "name": "stdout",
     "output_type": "stream",
     "text": [
      "(9719, 611)\n",
      "(9719, 9719)\n"
     ]
    }
   ],
   "source": [
    "print(movie_user_rating.shape)\n",
    "print(item_based_collabor.shape)"
   ]
  },
  {
   "cell_type": "code",
   "execution_count": 44,
   "id": "ec0c077b",
   "metadata": {},
   "outputs": [],
   "source": [
    "item_based_collabor = pd.DataFrame(data = item_based_collabor, index = movie_user_rating.index, columns = movie_user_rating.index)"
   ]
  },
  {
   "cell_type": "code",
   "execution_count": 47,
   "id": "0d43989a",
   "metadata": {},
   "outputs": [
    {
     "name": "stdout",
     "output_type": "stream",
     "text": [
      "True\n"
     ]
    }
   ],
   "source": [
    "print('Toy Story 3 (2010)' in item_based_collabor.index)"
   ]
  },
  {
   "cell_type": "code",
   "execution_count": 50,
   "id": "e692cfc9",
   "metadata": {},
   "outputs": [],
   "source": [
    "def get_item_based_collabor(title):\n",
    "    return item_based_collabor[title].sort_values(ascending=False)"
   ]
  },
  {
   "cell_type": "code",
   "execution_count": 51,
   "id": "da4de1a4",
   "metadata": {},
   "outputs": [],
   "source": [
    "def recommend_with_series_priority(title, top_n=10):\n",
    "    sims = get_item_based_collabor(title)\n",
    "    \n",
    "    # 1) 시리즈물: 기준 영화 제목에서 공통 키워드 추출 (예: 'Toy Story')\n",
    "    base_keyword = title.split('(')[0].strip()  # \"Toy Story\"\n",
    "    \n",
    "    # 2) 시리즈 영화 필터링\n",
    "    series_movies = [movie for movie in sims.index if base_keyword in movie]\n",
    "    \n",
    "    # 3) 시리즈 영화 + 상위 유사도 영화 합치기\n",
    "    series_sims = sims.loc[series_movies]\n",
    "    \n",
    "    # 4) 시리즈 영화 먼저, 나머지 유사도 순으로 정렬\n",
    "    combined = pd.concat([series_sims, sims.drop(series_movies)]).drop_duplicates()\n",
    "    \n",
    "    return combined[:top_n]\n"
   ]
  },
  {
   "cell_type": "code",
   "execution_count": 61,
   "id": "5a1318f2",
   "metadata": {},
   "outputs": [
    {
     "data": {
      "text/html": [
       "<div>\n",
       "<style scoped>\n",
       "    .dataframe tbody tr th:only-of-type {\n",
       "        vertical-align: middle;\n",
       "    }\n",
       "\n",
       "    .dataframe tbody tr th {\n",
       "        vertical-align: top;\n",
       "    }\n",
       "\n",
       "    .dataframe thead th {\n",
       "        text-align: right;\n",
       "    }\n",
       "</style>\n",
       "<table border=\"1\" class=\"dataframe\">\n",
       "  <thead>\n",
       "    <tr style=\"text-align: right;\">\n",
       "      <th></th>\n",
       "      <th>movieId</th>\n",
       "      <th>title</th>\n",
       "      <th>genres</th>\n",
       "    </tr>\n",
       "  </thead>\n",
       "  <tbody>\n",
       "    <tr>\n",
       "      <th>3027</th>\n",
       "      <td>4051</td>\n",
       "      <td>Horrors of Spider Island (Ein Toter Hing im Ne...</td>\n",
       "      <td>Horror|Sci-Fi</td>\n",
       "    </tr>\n",
       "    <tr>\n",
       "      <th>3151</th>\n",
       "      <td>4238</td>\n",
       "      <td>Along Came a Spider (2001)</td>\n",
       "      <td>Action|Crime|Mystery|Thriller</td>\n",
       "    </tr>\n",
       "    <tr>\n",
       "      <th>3819</th>\n",
       "      <td>5349</td>\n",
       "      <td>Spider-Man (2002)</td>\n",
       "      <td>Action|Adventure|Sci-Fi|Thriller</td>\n",
       "    </tr>\n",
       "    <tr>\n",
       "      <th>3821</th>\n",
       "      <td>5356</td>\n",
       "      <td>Giant Spider Invasion, The (1975)</td>\n",
       "      <td>Horror|Sci-Fi</td>\n",
       "    </tr>\n",
       "    <tr>\n",
       "      <th>4250</th>\n",
       "      <td>6197</td>\n",
       "      <td>Spider (2002)</td>\n",
       "      <td>Drama|Mystery</td>\n",
       "    </tr>\n",
       "    <tr>\n",
       "      <th>4567</th>\n",
       "      <td>6786</td>\n",
       "      <td>Kiss of the Spider Woman (1985)</td>\n",
       "      <td>Drama</td>\n",
       "    </tr>\n",
       "    <tr>\n",
       "      <th>5260</th>\n",
       "      <td>8636</td>\n",
       "      <td>Spider-Man 2 (2004)</td>\n",
       "      <td>Action|Adventure|Sci-Fi|IMAX</td>\n",
       "    </tr>\n",
       "    <tr>\n",
       "      <th>6470</th>\n",
       "      <td>52722</td>\n",
       "      <td>Spider-Man 3 (2007)</td>\n",
       "      <td>Action|Adventure|Sci-Fi|Thriller|IMAX</td>\n",
       "    </tr>\n",
       "    <tr>\n",
       "      <th>6685</th>\n",
       "      <td>58105</td>\n",
       "      <td>Spiderwick Chronicles, The (2008)</td>\n",
       "      <td>Adventure|Children|Drama|Fantasy|IMAX</td>\n",
       "    </tr>\n",
       "    <tr>\n",
       "      <th>7927</th>\n",
       "      <td>95510</td>\n",
       "      <td>Amazing Spider-Man, The (2012)</td>\n",
       "      <td>Action|Adventure|Sci-Fi|IMAX</td>\n",
       "    </tr>\n",
       "    <tr>\n",
       "      <th>8406</th>\n",
       "      <td>110553</td>\n",
       "      <td>The Amazing Spider-Man 2 (2014)</td>\n",
       "      <td>Action|Sci-Fi|IMAX</td>\n",
       "    </tr>\n",
       "    <tr>\n",
       "      <th>8699</th>\n",
       "      <td>122926</td>\n",
       "      <td>Untitled Spider-Man Reboot (2017)</td>\n",
       "      <td>Action|Adventure|Fantasy</td>\n",
       "    </tr>\n",
       "  </tbody>\n",
       "</table>\n",
       "</div>"
      ],
      "text/plain": [
       "      movieId                                              title  \\\n",
       "3027     4051  Horrors of Spider Island (Ein Toter Hing im Ne...   \n",
       "3151     4238                         Along Came a Spider (2001)   \n",
       "3819     5349                                  Spider-Man (2002)   \n",
       "3821     5356                  Giant Spider Invasion, The (1975)   \n",
       "4250     6197                                      Spider (2002)   \n",
       "4567     6786                    Kiss of the Spider Woman (1985)   \n",
       "5260     8636                                Spider-Man 2 (2004)   \n",
       "6470    52722                                Spider-Man 3 (2007)   \n",
       "6685    58105                  Spiderwick Chronicles, The (2008)   \n",
       "7927    95510                     Amazing Spider-Man, The (2012)   \n",
       "8406   110553                    The Amazing Spider-Man 2 (2014)   \n",
       "8699   122926                  Untitled Spider-Man Reboot (2017)   \n",
       "\n",
       "                                     genres  \n",
       "3027                          Horror|Sci-Fi  \n",
       "3151          Action|Crime|Mystery|Thriller  \n",
       "3819       Action|Adventure|Sci-Fi|Thriller  \n",
       "3821                          Horror|Sci-Fi  \n",
       "4250                          Drama|Mystery  \n",
       "4567                                  Drama  \n",
       "5260           Action|Adventure|Sci-Fi|IMAX  \n",
       "6470  Action|Adventure|Sci-Fi|Thriller|IMAX  \n",
       "6685  Adventure|Children|Drama|Fantasy|IMAX  \n",
       "7927           Action|Adventure|Sci-Fi|IMAX  \n",
       "8406                     Action|Sci-Fi|IMAX  \n",
       "8699               Action|Adventure|Fantasy  "
      ]
     },
     "execution_count": 61,
     "metadata": {},
     "output_type": "execute_result"
    }
   ],
   "source": [
    "toy_movies = movie_data[movie_data['title'].str.contains('Spider', case=False, na=False)]\n",
    "toy_movies"
   ]
  },
  {
   "cell_type": "code",
   "execution_count": 62,
   "id": "8ddddadb",
   "metadata": {},
   "outputs": [
    {
     "name": "stdout",
     "output_type": "stream",
     "text": [
      "title\n",
      "Spider-Man (2002)                                      1.000000\n",
      "Spider-Man 2 (2004)                                    0.732158\n",
      "Spider-Man 3 (2007)                                    0.478260\n",
      "Amazing Spider-Man, The (2012)                         0.300970\n",
      "The Amazing Spider-Man 2 (2014)                        0.250006\n",
      "Untitled Spider-Man Reboot (2017)                      0.223174\n",
      "Star Wars: Episode II - Attack of the Clones (2002)    0.696357\n",
      "Minority Report (2002)                                 0.661262\n",
      "X2: X-Men United (2003)                                0.638789\n",
      "X-Men (2000)                                           0.629953\n",
      "Name: Spider-Man (2002), dtype: float64\n"
     ]
    }
   ],
   "source": [
    "similarities = recommend_with_series_priority('Spider-Man (2002)')\n",
    "print(similarities)"
   ]
  },
  {
   "cell_type": "code",
   "execution_count": 63,
   "id": "dbe58773",
   "metadata": {},
   "outputs": [
    {
     "name": "stdout",
     "output_type": "stream",
     "text": [
      "title\n",
      "Toy Story (1995)                                     1.000000\n",
      "Toy Story 2 (1999)                                   0.570540\n",
      "Toy Story 3 (2010)                                   0.415589\n",
      "Jurassic Park (1993)                                 0.563601\n",
      "Independence Day (a.k.a. ID4) (1996)                 0.562231\n",
      "Star Wars: Episode IV - A New Hope (1977)            0.555382\n",
      "Forrest Gump (1994)                                  0.545127\n",
      "Lion King, The (1994)                                0.539198\n",
      "Star Wars: Episode VI - Return of the Jedi (1983)    0.539142\n",
      "Mission: Impossible (1996)                           0.536973\n",
      "Name: Toy Story (1995), dtype: float64\n"
     ]
    }
   ],
   "source": [
    "similarities = recommend_with_series_priority('Toy Story (1995)')\n",
    "print(similarities)"
   ]
  },
  {
   "cell_type": "code",
   "execution_count": 38,
   "id": "8e0085ac",
   "metadata": {},
   "outputs": [
    {
     "name": "stdout",
     "output_type": "stream",
     "text": [
      "Toy Story 3와의 유사도: 0.4155885787654142\n"
     ]
    }
   ],
   "source": [
    "from sklearn.metrics.pairwise import cosine_similarity\n",
    "\n",
    "vec1 = movie_user_rating.loc['Toy Story (1995)'].values.reshape(1, -1)\n",
    "vec2 = movie_user_rating.loc['Toy Story 3 (2010)'].values.reshape(1, -1)\n",
    "sim = cosine_similarity(vec1, vec2)[0][0]\n",
    "print(f\"Toy Story 3와의 유사도: {sim}\")"
   ]
  },
  {
   "cell_type": "code",
   "execution_count": 29,
   "id": "d8d37b32",
   "metadata": {},
   "outputs": [
    {
     "name": "stdout",
     "output_type": "stream",
     "text": [
      "title\n",
      "Toy Story 3 (2010)           1.000000\n",
      "Sherlock Holmes (2009)       0.557957\n",
      "Up (2009)                    0.547897\n",
      "X-Men: First Class (2011)    0.541870\n",
      "Inside Out (2015)            0.514186\n",
      "Star Trek (2009)             0.509823\n",
      "Avengers, The (2012)         0.507237\n",
      "Kung Fu Panda (2008)         0.500488\n",
      "Avatar (2009)                0.494725\n",
      "Iron Man (2008)              0.494617\n",
      "Name: Toy Story 3 (2010), dtype: float64\n"
     ]
    }
   ],
   "source": [
    "similarities = get_item_based_collabor('Toy Story 3 (2010)')\n",
    "print(similarities.sort_values(ascending=False).head(10))"
   ]
  },
  {
   "cell_type": "code",
   "execution_count": null,
   "id": "63145d70",
   "metadata": {},
   "outputs": [],
   "source": []
  }
 ],
 "metadata": {
  "kernelspec": {
   "display_name": "venv11",
   "language": "python",
   "name": "python3"
  },
  "language_info": {
   "codemirror_mode": {
    "name": "ipython",
    "version": 3
   },
   "file_extension": ".py",
   "mimetype": "text/x-python",
   "name": "python",
   "nbconvert_exporter": "python",
   "pygments_lexer": "ipython3",
   "version": "3.11.5"
  }
 },
 "nbformat": 4,
 "nbformat_minor": 5
}
